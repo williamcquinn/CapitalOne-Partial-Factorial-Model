{
 "cells": [
  {
   "cell_type": "markdown",
   "metadata": {},
   "source": [
    "## Partial Factorial Model: Credit Card Design\n"
   ]
  },
  {
   "cell_type": "markdown",
   "metadata": {},
   "source": [
    "Offering the best product to different groups of people is an intricate task. Especially when it comes to credit cards, there are numerous factors that drive the success and failure of the product offered. Hence, a thorough analysis of the demography and the bankruptcy score is indispensable for reducing the risk and improving the profitability of the rollout. Faced with the task of offering the best of the 12 products to the three groups of customers who have Bankruptcy scores of 150, 200, 250 respectively, we began analyzing the past data to find insights about variables like APR, Fixed/Variable rates, and annual fee having the effects on response rates and LTV. "
   ]
  },
  {
   "cell_type": "code",
   "execution_count": 1,
   "metadata": {},
   "outputs": [],
   "source": [
    "import numpy as np\n",
    "import pandas as pd\n",
    "import pyrsm as rsm\n",
    "import statsmodels.formula.api as smf\n",
    "from statsmodels.genmod.families import Binomial\n",
    "from statsmodels.genmod.families.links import logit\n",
    "\n",
    "%reload_ext rpy2.ipython"
   ]
  },
  {
   "cell_type": "markdown",
   "metadata": {},
   "source": [
    "## Data Preparation"
   ]
  },
  {
   "cell_type": "code",
   "execution_count": 2,
   "metadata": {},
   "outputs": [],
   "source": [
    "# Read in exhibits 1 & 2 from the initially provided data\n",
    "ex1 = pd.read_excel(\n",
    "    \"data/exhibits.xls\",\n",
    "    sheet_name=\"exhibit1\",\n",
    "    dtype={\n",
    "        \"date\": \"category\",\n",
    "        \"apr\": \"float\",\n",
    "        \"fixed_var\": \"category\",\n",
    "        \"annual_fee\": \"int\",\n",
    "        \"visamc\": \"category\",\n",
    "        \"nr_mailed\": \"int\",\n",
    "        \"non_resp\": \"int\",\n",
    "        \"resp\": \"int\",\n",
    "        \"bk_score\": \"int\",\n",
    "        \"average_bk\": \"int\",\n",
    "    },\n",
    ")\n",
    "\n",
    "ex2 = pd.read_excel(\n",
    "    \"data/exhibits.xls\",\n",
    "    sheet_name=\"exhibit2\",\n",
    "    dtype={\n",
    "        \"apr\": \"float\",\n",
    "        \"fixed_var\": \"category\",\n",
    "        \"annual_fee\": \"int\",\n",
    "        \"clv150\": \"int\",\n",
    "        \"clv200\": \"int\",\n",
    "        \"clv250\": \"int\",\n",
    "    },\n",
    ")"
   ]
  },
  {
   "cell_type": "code",
   "execution_count": 3,
   "metadata": {},
   "outputs": [],
   "source": [
    "# ex1.to_csv('data/ex1.csv')"
   ]
  },
  {
   "cell_type": "markdown",
   "metadata": {},
   "source": [
    "## Q1) Customer Life Time Value\n",
    "\n",
    "* Customer Lifetime Value varies with BK score because people with higher scores tend to default and resulting in the loss to the organization and vice versa.\n",
    "\n",
    "* Customer Lifetime Value varies by the product because products that are more profitable to us will be more costly to the customer, defined by a high APR, variable rate, and carries an annual fee. These product attributes will generate more revenue, so the customers that buy these products will have a higher CLV. Contrarily, customers that buy the products with the attributes of low APR, fixed cost, and no annual fee will have a lower CLV.\n"
   ]
  },
  {
   "cell_type": "markdown",
   "metadata": {},
   "source": [
    "## Q4) Part I: Experiment Design"
   ]
  },
  {
   "cell_type": "markdown",
   "metadata": {},
   "source": [
    "We began the task by designing an experiment to choose the best product to offer to each group of customers. The variables like APR, Fixed/Variable rates, and annual fee with levels of 3, 2, and 2 respectively which led to the creation of 12 different products (3 X 2 X 2) were used to find the optimal design. We also included the bankruptcy score with 3 levels as one of the variables so that the number of available combinations is 36 (3 X 2 X 2 X 3). We identified that the design efficiency was 100% for a full factorial design of 36 and the most efficient partial factorial design was 18 trials with an efficiency of  96.5%. "
   ]
  },
  {
   "cell_type": "code",
   "execution_count": 4,
   "metadata": {},
   "outputs": [
    {
     "name": "stdout",
     "output_type": "stream",
     "text": [
      "Experimental design\n",
      "# trials for partial factorial: 36 \n",
      "# trials for full factorial   : 36 \n",
      "Random seed                   : 1234 \n",
      "\n",
      "Attributes and levels:\n",
      "annual_fee: 0, 20 \n",
      "apr: 14.9, 16.8, 19.8 \n",
      "fixed_var: Fixed, Variable \n",
      "bk_score: 150, 200, 250 \n",
      "\n",
      "Design efficiency:\n",
      " Trials D-efficiency Balanced\n",
      "      7        0.368    FALSE\n",
      "      8        0.276    FALSE\n",
      "      9        0.751    FALSE\n",
      "     10        0.705    FALSE\n",
      "     11        0.507    FALSE\n",
      "     12        0.892     TRUE\n",
      "     13        0.813    FALSE\n",
      "     14        0.792    FALSE\n",
      "     15        0.726    FALSE\n",
      "     16        0.678    FALSE\n",
      "     17        0.622    FALSE\n",
      "     18        0.965     TRUE\n",
      "     19        0.911    FALSE\n",
      "     20        0.869    FALSE\n",
      "     21        0.821    FALSE\n",
      "     22        0.852    FALSE\n",
      "     23        0.848    FALSE\n",
      "     24        0.922     TRUE\n",
      "     25        0.883    FALSE\n",
      "     26        0.846    FALSE\n",
      "     27        0.914    FALSE\n",
      "     28        0.888    FALSE\n",
      "     29        0.862    FALSE\n",
      "     30        0.905     TRUE\n",
      "     31        0.908    FALSE\n",
      "     32        0.896    FALSE\n",
      "     33        0.865    FALSE\n",
      "     34        0.842    FALSE\n",
      "     35        0.813    FALSE\n",
      "     36        1.000     TRUE\n",
      "\n",
      "Partial factorial design correlations:\n",
      "** Note: Variables are assumed to be ordinal **\n",
      "           annual_fee apr fixed_var bk_score\n",
      "annual_fee          1   0         0        0\n",
      "apr                 0   1         0        0\n",
      "fixed_var           0   0         1        0\n",
      "bk_score            0   0         0        1\n",
      "\n",
      "Partial factorial design:\n",
      " trial annual_fee  apr fixed_var bk_score\n",
      "     1          0 14.9     Fixed      150\n",
      "     2          0 14.9     Fixed      200\n",
      "     3          0 14.9     Fixed      250\n",
      "     4          0 14.9  Variable      150\n",
      "     5          0 14.9  Variable      200\n",
      "     6          0 14.9  Variable      250\n",
      "     7          0 16.8     Fixed      150\n",
      "     8          0 16.8     Fixed      200\n",
      "     9          0 16.8     Fixed      250\n",
      "    10          0 16.8  Variable      150\n",
      "    11          0 16.8  Variable      200\n",
      "    12          0 16.8  Variable      250\n",
      "    13          0 19.8     Fixed      150\n",
      "    14          0 19.8     Fixed      200\n",
      "    15          0 19.8     Fixed      250\n",
      "    16          0 19.8  Variable      150\n",
      "    17          0 19.8  Variable      200\n",
      "    18          0 19.8  Variable      250\n",
      "    19         20 14.9     Fixed      150\n",
      "    20         20 14.9     Fixed      200\n",
      "    21         20 14.9     Fixed      250\n",
      "    22         20 14.9  Variable      150\n",
      "    23         20 14.9  Variable      200\n",
      "    24         20 14.9  Variable      250\n",
      "    25         20 16.8     Fixed      150\n",
      "    26         20 16.8     Fixed      200\n",
      "    27         20 16.8     Fixed      250\n",
      "    28         20 16.8  Variable      150\n",
      "    29         20 16.8  Variable      200\n",
      "    30         20 16.8  Variable      250\n",
      "    31         20 19.8     Fixed      150\n",
      "    32         20 19.8     Fixed      200\n",
      "    33         20 19.8     Fixed      250\n",
      "    34         20 19.8  Variable      150\n",
      "    35         20 19.8  Variable      200\n",
      "    36         20 19.8  Variable      250\n",
      "\n",
      "Estimable effects from partial factorial design:\n",
      "\n",
      "  annual_fee|20\n",
      "  apr|16.8\n",
      "  apr|19.8\n",
      "  fixed_var|Variable\n",
      "  bk_score|200\n",
      "  bk_score|250\n",
      "  annual_fee|20:apr|16.8\n",
      "  annual_fee|20:apr|19.8\n",
      "  annual_fee|20:fixed_var|Variable\n",
      "  apr|16.8:fixed_var|Variable\n",
      "  apr|19.8:fixed_var|Variable\n",
      "  annual_fee|20:bk_score|200\n",
      "  annual_fee|20:bk_score|250\n",
      "  apr|16.8:bk_score|200\n",
      "  apr|19.8:bk_score|200\n",
      "  apr|16.8:bk_score|250\n",
      "  apr|19.8:bk_score|250\n",
      "  fixed_var|Variable:bk_score|200\n",
      "  fixed_var|Variable:bk_score|250\n",
      "  annual_fee|20:apr|16.8:fixed_var|Variable\n",
      "  annual_fee|20:apr|19.8:fixed_var|Variable\n",
      "  annual_fee|20:apr|16.8:bk_score|200\n",
      "  annual_fee|20:apr|19.8:bk_score|200\n",
      "  annual_fee|20:apr|16.8:bk_score|250\n",
      "  annual_fee|20:apr|19.8:bk_score|250\n",
      "  annual_fee|20:fixed_var|Variable:bk_score|200\n",
      "  annual_fee|20:fixed_var|Variable:bk_score|250\n",
      "  apr|16.8:fixed_var|Variable:bk_score|200\n",
      "  apr|19.8:fixed_var|Variable:bk_score|200\n",
      "  apr|16.8:fixed_var|Variable:bk_score|250\n",
      "  apr|19.8:fixed_var|Variable:bk_score|250\n",
      "  annual_fee|20:apr|16.8:fixed_var|Variable:bk_score|200\n",
      "  annual_fee|20:apr|19.8:fixed_var|Variable:bk_score|200\n",
      "  annual_fee|20:apr|16.8:fixed_var|Variable:bk_score|250\n",
      "  annual_fee|20:apr|19.8:fixed_var|Variable:bk_score|250 \n",
      "\n",
      "Full factorial design:\n",
      " trial annual_fee  apr fixed_var bk_score\n",
      "     1          0 14.9     Fixed      150\n",
      "     2          0 14.9     Fixed      200\n",
      "     3          0 14.9     Fixed      250\n",
      "     4          0 14.9  Variable      150\n",
      "     5          0 14.9  Variable      200\n",
      "     6          0 14.9  Variable      250\n",
      "     7          0 16.8     Fixed      150\n",
      "     8          0 16.8     Fixed      200\n",
      "     9          0 16.8     Fixed      250\n",
      "    10          0 16.8  Variable      150\n",
      "    11          0 16.8  Variable      200\n",
      "    12          0 16.8  Variable      250\n",
      "    13          0 19.8     Fixed      150\n",
      "    14          0 19.8     Fixed      200\n",
      "    15          0 19.8     Fixed      250\n",
      "    16          0 19.8  Variable      150\n",
      "    17          0 19.8  Variable      200\n",
      "    18          0 19.8  Variable      250\n",
      "    19         20 14.9     Fixed      150\n",
      "    20         20 14.9     Fixed      200\n",
      "    21         20 14.9     Fixed      250\n",
      "    22         20 14.9  Variable      150\n",
      "    23         20 14.9  Variable      200\n",
      "    24         20 14.9  Variable      250\n",
      "    25         20 16.8     Fixed      150\n",
      "    26         20 16.8     Fixed      200\n",
      "    27         20 16.8     Fixed      250\n",
      "    28         20 16.8  Variable      150\n",
      "    29         20 16.8  Variable      200\n",
      "    30         20 16.8  Variable      250\n",
      "    31         20 19.8     Fixed      150\n",
      "    32         20 19.8     Fixed      200\n",
      "    33         20 19.8     Fixed      250\n",
      "    34         20 19.8  Variable      150\n",
      "    35         20 19.8  Variable      200\n",
      "    36         20 19.8  Variable      250\n"
     ]
    }
   ],
   "source": [
    "%%R\n",
    "result <- radiant.design::doe(\n",
    "  factors = c(\n",
    "    \"annual_fee; 0; 20\", \n",
    "    \"apr; 14.9; 16.8; 19.8\", \n",
    "    \"fixed_var; Fixed; Variable\", \n",
    "    \"bk_score; 150; 200; 250\"\n",
    "  ), \n",
    "  seed = 1234\n",
    ")\n",
    "summary(result, eff = TRUE, part = TRUE, full = TRUE)"
   ]
  },
  {
   "cell_type": "markdown",
   "metadata": {},
   "source": [
    "### Partial Factorial Design\n",
    "\n",
    "We chose a partial factorial design for the test as we feel that we can evaluate the response rates of the chosen 18 combinations and then predicting the other combinations using the predictive model rather than testing all the combinations which would cost us 72,000 additional customers in the test run thereby reducing the profitability of the rollout phase."
   ]
  },
  {
   "cell_type": "code",
   "execution_count": 5,
   "metadata": {},
   "outputs": [],
   "source": [
    "clv_table = pd.wide_to_long(ex2, stubnames=\"clv\", i=\"offer\", j=\"bk_score\").reset_index()\n",
    "clv_table = clv_table[[\"apr\", \"annual_fee\", \"fixed_var\", \"bk_score\", \"clv\"]]"
   ]
  },
  {
   "cell_type": "markdown",
   "metadata": {},
   "source": [
    "The partial designs with random seeds of `19`, `1234`, and `172110` were created in Radiant and exported as a `CSV` file. Using that data, we explore the results below."
   ]
  },
  {
   "cell_type": "code",
   "execution_count": 6,
   "metadata": {},
   "outputs": [
    {
     "data": {
      "text/plain": [
       "1293"
      ]
     },
     "execution_count": 6,
     "metadata": {},
     "output_type": "execute_result"
    }
   ],
   "source": [
    "part_19 = pd.read_csv(\"data/part_19.csv\")\n",
    "part_19 = part_19[[\"apr\", \"fixed_var\", \"annual_fee\", \"bk_score\"]]\n",
    "\n",
    "part_19_clv = pd.merge(\n",
    "    part_19,\n",
    "    clv_table,\n",
    "    how=\"left\",\n",
    "    left_on=[\"apr\", \"annual_fee\", \"fixed_var\", \"bk_score\"],\n",
    "    right_on=[\"apr\", \"annual_fee\", \"fixed_var\", \"bk_score\"],\n",
    ")\n",
    "sum(part_19_clv.clv)"
   ]
  },
  {
   "cell_type": "code",
   "execution_count": 7,
   "metadata": {},
   "outputs": [
    {
     "data": {
      "text/plain": [
       "1293"
      ]
     },
     "execution_count": 7,
     "metadata": {},
     "output_type": "execute_result"
    }
   ],
   "source": [
    "part_1234 = pd.read_csv(\"data/part_1234.csv\")\n",
    "part_1234 = part_1234[[\"apr\", \"fixed_var\", \"annual_fee\", \"bk_score\"]]\n",
    "\n",
    "part_1234_clv = pd.merge(\n",
    "    part_1234,\n",
    "    clv_table,\n",
    "    how=\"left\",\n",
    "    left_on=[\"apr\", \"annual_fee\", \"fixed_var\", \"bk_score\"],\n",
    "    right_on=[\"apr\", \"annual_fee\", \"fixed_var\", \"bk_score\"],\n",
    ")\n",
    "sum(part_1234_clv.clv)"
   ]
  },
  {
   "cell_type": "code",
   "execution_count": 8,
   "metadata": {},
   "outputs": [
    {
     "data": {
      "text/plain": [
       "1293"
      ]
     },
     "execution_count": 8,
     "metadata": {},
     "output_type": "execute_result"
    }
   ],
   "source": [
    "part_long = pd.read_csv(\"data/part_long.csv\")\n",
    "part_long = part_long[[\"apr\", \"fixed_var\", \"annual_fee\", \"bk_score\"]]\n",
    "\n",
    "part_long_clv = pd.merge(\n",
    "    part_long,\n",
    "    clv_table,\n",
    "    how=\"left\",\n",
    "    left_on=[\"apr\", \"annual_fee\", \"fixed_var\", \"bk_score\"],\n",
    "    right_on=[\"apr\", \"annual_fee\", \"fixed_var\", \"bk_score\"],\n",
    ")\n",
    "sum(part_long_clv.clv)"
   ]
  },
  {
   "cell_type": "markdown",
   "metadata": {},
   "source": [
    "## Q4) Part II: Choosing Partial Factorial Model\n",
    "\n",
    "The sum of CLV is equal for all 3 random seeds: `$1293`. But when looking at experiments generated with different random seeds, the total number of products being rolled out differed. The experiment with the random seed of `1234` only had 10 products, while the other 2 had 12 products. To see whether those products would result in a significant differences in response rates, we built a preliminary model using `exhibit 1` data."
   ]
  },
  {
   "cell_type": "code",
   "execution_count": 9,
   "metadata": {},
   "outputs": [],
   "source": [
    "rvar = \"response\"\n",
    "evar = [\"apr\", \"fixed_var\", \"annual_fee\", \"bk_score\"]\n",
    "\n",
    "form = \"response ~ \" + \" + \".join(evar)"
   ]
  },
  {
   "cell_type": "code",
   "execution_count": 10,
   "metadata": {},
   "outputs": [],
   "source": [
    "ex1_gathered = pd.read_csv(\"data/ex1_gathered.csv\")\n",
    "ex1_gathered_ex = pd.read_csv(\"data/ex1_gathered_expand.csv\")"
   ]
  },
  {
   "cell_type": "code",
   "execution_count": 11,
   "metadata": {},
   "outputs": [],
   "source": [
    "lr = smf.glm(\n",
    "    formula=form,\n",
    "    family=Binomial(link=logit()),\n",
    "    freq_weights=ex1_gathered[\"freq\"],\n",
    "    data=ex1_gathered,\n",
    ").fit(cov_type=\"HC1\")"
   ]
  },
  {
   "cell_type": "code",
   "execution_count": 12,
   "metadata": {},
   "outputs": [],
   "source": [
    "ex1_gathered_ex[\"pred_resp\"] = 1 - lr.predict(ex1_gathered_ex)"
   ]
  },
  {
   "cell_type": "code",
   "execution_count": 59,
   "metadata": {},
   "outputs": [
    {
     "data": {
      "text/plain": [
       "Text(0.5, 1.0, 'APR vs. Response Rates')"
      ]
     },
     "execution_count": 59,
     "metadata": {},
     "output_type": "execute_result"
    },
    {
     "data": {
      "image/png": "[encoded data removed]",
      "text/plain": [
       "<Figure size 432x288 with 1 Axes>"
      ]
     },
     "metadata": {
      "needs_background": "light"
     },
     "output_type": "display_data"
    }
   ],
   "source": [
    "import matplotlib.pyplot as plt\n",
    "\n",
    "ex1_plot = ex1_gathered_ex.groupby(\"apr\")[\"pred_resp\"].agg(\"mean\")\n",
    "ex1_plot = pd.DataFrame(ex1_plot)\n",
    "\n",
    "fig, ax = plt.subplots()\n",
    "fig = plt.plot(ex1_plot.index, ex1_plot.pred_resp)\n",
    "ax.set_xlabel(\"APR (%)\")\n",
    "ax.set_ylabel(\"Predicted Response Rates\")\n",
    "ax.set_title(\"APR vs. Response Rates\")"
   ]
  },
  {
   "cell_type": "markdown",
   "metadata": {},
   "source": [
    "From the plot above, we can see that the predictions are considerably lower for an APR of 19.8%, so we are comfortable moving forward with the design which is missing the two models that have an APR of 19.8%, and a random seed of `1234`."
   ]
  },
  {
   "cell_type": "markdown",
   "metadata": {},
   "source": [
    "## Q4) Part III: Sample Size for Round 1"
   ]
  },
  {
   "cell_type": "markdown",
   "metadata": {},
   "source": [
    "We decided to use `4,000` as our sample size for each of the 18 combinations we found from the DOE, because we believed that it would give us a realistic prediction for the response rate without using up too many of our available customers to mail to, but give us a reasonable ability to distinguish between a 2% and a 3% response rate. When testing the effects of the three different random seeds we found that the seeds `19` and `172110` gave us different results than with using seed `1234`. With seeds `19` and `172110` there were 12 possible products to mail to customers while with seed `1234` there were 10. The additional two products which were included both had APRs of `19.8`, and we see the difference in response rates above. So, we reasoned that they would not be rational options to test on since they would not have a high response rate and so we decided to use the seed `1234`."
   ]
  },
  {
   "cell_type": "code",
   "execution_count": 14,
   "metadata": {},
   "outputs": [
    {
     "name": "stdout",
     "output_type": "stream",
     "text": [
      "Sample size calculation for comparison of proportions \n",
      "Sample size 1    : 3,789\n",
      "Sample size 2    : 3,789\n",
      "Total sample size: 7,578\n",
      "Proportion 1     : 0.02 \n",
      "Proportion 2     : 0.03 \n",
      "Effect size      : 0.06437191 \n",
      "Confidence level : 0.95 \n",
      "Power            : 0.8 \n",
      "Alternative      : two.sided \n",
      "\n"
     ]
    }
   ],
   "source": [
    "%%R\n",
    "result <- radiant.design::sample_size_comp(\n",
    "  type = \"proportion\", \n",
    "  p1 = 0.02, \n",
    "  p2 = 0.03, \n",
    "  conf_lev = 0.95, \n",
    "  power = 0.8\n",
    ")\n",
    "summary(result)"
   ]
  },
  {
   "cell_type": "markdown",
   "metadata": {},
   "source": [
    "## Q4) Part IV: Round 1 & Analysis\n",
    "\n",
    "Using the results from DOE, we mailed 18 combinations: 6 products per bankruptcy score group, and received the response rates, profits, and costs for the mailing.\n",
    "\n",
    "The total profitability of test run mailing was `$6,727`. Using these results, we built a predictive logistic model, predicting the response rates for all 36 possibilities and estimated the profitability of a customer in a respective group for the offered product using the CLVs from `exhibit 2`. We then identified which of the top 2-3 product offers would give us the highest profitability for each level of bankruptcy score by combining the results of the test run and predictive model and allocated a percentage of the `226,000` remaining customers to each product offered for the input of our rollout stage.\n"
   ]
  },
  {
   "cell_type": "code",
   "execution_count": 15,
   "metadata": {},
   "outputs": [],
   "source": [
    "ex1_r1 = pd.read_csv(\"data/ex1_r1.csv\")\n",
    "\n",
    "# read in gathered data to build predictive model & predict upon\n",
    "ex1_r1_gathered = pd.read_csv(\"data/ex1_r1_gathered.csv\")\n",
    "ex1_r1_gathered_ex = pd.read_csv(\"data/ex1_r1_gathered_expand.csv\")"
   ]
  },
  {
   "cell_type": "code",
   "execution_count": 16,
   "metadata": {},
   "outputs": [],
   "source": [
    "lr_w1 = smf.glm(\n",
    "    formula=form,\n",
    "    family=Binomial(link=logit()),\n",
    "    freq_weights=ex1_r1_gathered[\"freq\"],\n",
    "    data=ex1_r1_gathered,\n",
    ").fit(cov_type=\"HC1\")\n",
    "\n",
    "ex1_r1_gathered_ex[\"pred_resp\"] = 1 - lr_w1.predict(ex1_r1_gathered_ex)"
   ]
  },
  {
   "cell_type": "markdown",
   "metadata": {},
   "source": [
    "## Q4) Part V: Rollout\n",
    "\n",
    "We began the rollout using the inputs from the predictive model and the test run and received the results of mailing in terms of cumulative profits and mailing costs. The response rates from the rollout were fairly consistent with the predictive model achieving a profit of  `$618,932` and our cumulative profit being `$625,659`."
   ]
  },
  {
   "cell_type": "code",
   "execution_count": 36,
   "metadata": {},
   "outputs": [],
   "source": [
    "w2 = ex1_r1_gathered_ex.sort_values([\"bk_score\", \"apr\"])\n",
    "clvs = clv_table.sort_values([\"bk_score\", \"apr\"])"
   ]
  },
  {
   "cell_type": "code",
   "execution_count": 37,
   "metadata": {},
   "outputs": [],
   "source": [
    "w2 = w2.reset_index(drop=True)\n",
    "clvs = clvs.reset_index(drop=True)\n",
    "\n",
    "# combine dfs\n",
    "w2 = pd.merge(w2, clvs, left_index=True, right_index=True)[\n",
    "    [\"apr_x\", \"fixed_var_x\", \"annual_fee_x\", \"bk_score_x\", \"pred_resp\", \"clv\"]\n",
    "]"
   ]
  },
  {
   "cell_type": "code",
   "execution_count": 47,
   "metadata": {},
   "outputs": [],
   "source": [
    "# get predicted CLV from exbhit 2 and predicted response rates\n",
    "w2[\"pred_clv\"] = w2.pred_resp * w2.clv\n",
    "\n",
    "# sub-dfs to get top offers\n",
    "w2_150 = w2.loc[w2.bk_score_x == 150].nlargest(2, \"pred_clv\")\n",
    "w2_200 = w2.loc[w2.bk_score_x == 200].nlargest(5, \"pred_clv\")\n",
    "w2_250 = w2.loc[w2.bk_score_x == 250].nlargest(3, \"pred_clv\")\n",
    "\n",
    "# combined df\n",
    "w2_list = [w2_150, w2_200, w2_250]\n",
    "wave_2 = pd.concat(w2_list)\n",
    "wave_2 = wave_2.reset_index(drop=True).drop([3, 5, 8]).reset_index(drop=True)"
   ]
  },
  {
   "cell_type": "code",
   "execution_count": 50,
   "metadata": {},
   "outputs": [],
   "source": [
    "# final DF generation\n",
    "rem = 226000\n",
    "mail = 0.5\n",
    "percs = [0.6, 0.4, 0.3, 0.1, 0.6, 0.6, 0.4]\n",
    "\n",
    "wave_2[\"perc_mail\"] = percs\n",
    "wave_2[\"mailing_costs\"] = rem * wave_2.perc_mail * mail\n",
    "wave_2[\"num_mail\"] = rem * wave_2.perc_mail\n",
    "wave_2[\"clv_total\"] = wave_2.pred_clv * wave_2.num_mail\n",
    "wave_2[\"proj_prof\"] = wave_2.clv_total - wave_2.mailing_costs"
   ]
  },
  {
   "cell_type": "code",
   "execution_count": 51,
   "metadata": {},
   "outputs": [
    {
     "data": {
      "text/html": [
       "<div>\n",
       "<style scoped>\n",
       "    .dataframe tbody tr th:only-of-type {\n",
       "        vertical-align: middle;\n",
       "    }\n",
       "\n",
       "    .dataframe tbody tr th {\n",
       "        vertical-align: top;\n",
       "    }\n",
       "\n",
       "    .dataframe thead th {\n",
       "        text-align: right;\n",
       "    }\n",
       "</style>\n",
       "<table border=\"1\" class=\"dataframe\">\n",
       "  <thead>\n",
       "    <tr style=\"text-align: right;\">\n",
       "      <th></th>\n",
       "      <th>apr_x</th>\n",
       "      <th>fixed_var_x</th>\n",
       "      <th>annual_fee_x</th>\n",
       "      <th>bk_score_x</th>\n",
       "      <th>pred_resp</th>\n",
       "      <th>clv</th>\n",
       "      <th>pred_clv</th>\n",
       "      <th>perc_mail</th>\n",
       "      <th>mailing_costs</th>\n",
       "      <th>num_mail</th>\n",
       "      <th>clv_total</th>\n",
       "      <th>proj_prof</th>\n",
       "    </tr>\n",
       "  </thead>\n",
       "  <tbody>\n",
       "    <tr>\n",
       "      <th>0</th>\n",
       "      <td>14.9</td>\n",
       "      <td>Fixed</td>\n",
       "      <td>0</td>\n",
       "      <td>150</td>\n",
       "      <td>0.043322</td>\n",
       "      <td>52</td>\n",
       "      <td>2.252751</td>\n",
       "      <td>0.6</td>\n",
       "      <td>67800.0</td>\n",
       "      <td>135600.0</td>\n",
       "      <td>305473.087991</td>\n",
       "      <td>237673.087991</td>\n",
       "    </tr>\n",
       "    <tr>\n",
       "      <th>1</th>\n",
       "      <td>14.9</td>\n",
       "      <td>Var.</td>\n",
       "      <td>0</td>\n",
       "      <td>150</td>\n",
       "      <td>0.033674</td>\n",
       "      <td>62</td>\n",
       "      <td>2.087816</td>\n",
       "      <td>0.4</td>\n",
       "      <td>45200.0</td>\n",
       "      <td>90400.0</td>\n",
       "      <td>188738.602038</td>\n",
       "      <td>143538.602038</td>\n",
       "    </tr>\n",
       "    <tr>\n",
       "      <th>2</th>\n",
       "      <td>14.9</td>\n",
       "      <td>Var.</td>\n",
       "      <td>0</td>\n",
       "      <td>200</td>\n",
       "      <td>0.040502</td>\n",
       "      <td>42</td>\n",
       "      <td>1.701086</td>\n",
       "      <td>0.3</td>\n",
       "      <td>33900.0</td>\n",
       "      <td>67800.0</td>\n",
       "      <td>115333.640595</td>\n",
       "      <td>81433.640595</td>\n",
       "    </tr>\n",
       "    <tr>\n",
       "      <th>3</th>\n",
       "      <td>16.8</td>\n",
       "      <td>Fixed</td>\n",
       "      <td>0</td>\n",
       "      <td>200</td>\n",
       "      <td>0.029039</td>\n",
       "      <td>52</td>\n",
       "      <td>1.510014</td>\n",
       "      <td>0.1</td>\n",
       "      <td>11300.0</td>\n",
       "      <td>22600.0</td>\n",
       "      <td>34126.327162</td>\n",
       "      <td>22826.327162</td>\n",
       "    </tr>\n",
       "    <tr>\n",
       "      <th>4</th>\n",
       "      <td>14.9</td>\n",
       "      <td>Fixed</td>\n",
       "      <td>20</td>\n",
       "      <td>200</td>\n",
       "      <td>0.016448</td>\n",
       "      <td>63</td>\n",
       "      <td>1.036244</td>\n",
       "      <td>0.6</td>\n",
       "      <td>67800.0</td>\n",
       "      <td>135600.0</td>\n",
       "      <td>140514.626312</td>\n",
       "      <td>72714.626312</td>\n",
       "    </tr>\n",
       "    <tr>\n",
       "      <th>5</th>\n",
       "      <td>16.8</td>\n",
       "      <td>Var.</td>\n",
       "      <td>0</td>\n",
       "      <td>250</td>\n",
       "      <td>0.027122</td>\n",
       "      <td>32</td>\n",
       "      <td>0.867907</td>\n",
       "      <td>0.6</td>\n",
       "      <td>67800.0</td>\n",
       "      <td>135600.0</td>\n",
       "      <td>117688.125715</td>\n",
       "      <td>49888.125715</td>\n",
       "    </tr>\n",
       "    <tr>\n",
       "      <th>6</th>\n",
       "      <td>19.8</td>\n",
       "      <td>Fixed</td>\n",
       "      <td>0</td>\n",
       "      <td>250</td>\n",
       "      <td>0.013712</td>\n",
       "      <td>50</td>\n",
       "      <td>0.685603</td>\n",
       "      <td>0.4</td>\n",
       "      <td>45200.0</td>\n",
       "      <td>90400.0</td>\n",
       "      <td>61978.487469</td>\n",
       "      <td>16778.487469</td>\n",
       "    </tr>\n",
       "  </tbody>\n",
       "</table>\n",
       "</div>"
      ],
      "text/plain": [
       "   apr_x fixed_var_x  annual_fee_x  bk_score_x  pred_resp  clv  pred_clv  \\\n",
       "0   14.9       Fixed             0         150   0.043322   52  2.252751   \n",
       "1   14.9        Var.             0         150   0.033674   62  2.087816   \n",
       "2   14.9        Var.             0         200   0.040502   42  1.701086   \n",
       "3   16.8       Fixed             0         200   0.029039   52  1.510014   \n",
       "4   14.9       Fixed            20         200   0.016448   63  1.036244   \n",
       "5   16.8        Var.             0         250   0.027122   32  0.867907   \n",
       "6   19.8       Fixed             0         250   0.013712   50  0.685603   \n",
       "\n",
       "   perc_mail  mailing_costs  num_mail      clv_total      proj_prof  \n",
       "0        0.6        67800.0  135600.0  305473.087991  237673.087991  \n",
       "1        0.4        45200.0   90400.0  188738.602038  143538.602038  \n",
       "2        0.3        33900.0   67800.0  115333.640595   81433.640595  \n",
       "3        0.1        11300.0   22600.0   34126.327162   22826.327162  \n",
       "4        0.6        67800.0  135600.0  140514.626312   72714.626312  \n",
       "5        0.6        67800.0  135600.0  117688.125715   49888.125715  \n",
       "6        0.4        45200.0   90400.0   61978.487469   16778.487469  "
      ]
     },
     "execution_count": 51,
     "metadata": {},
     "output_type": "execute_result"
    }
   ],
   "source": [
    "wave_2"
   ]
  },
  {
   "cell_type": "markdown",
   "metadata": {},
   "source": [
    "We input `num_mail` from the dataframe above into the simulation. And our expected profit is `$624,852.90` for the rollout phase of the simulation. This combined with our initial profits from round 1 and rollout phase mailing expenses would give us a predicted projected profit of `$630,324.90`."
   ]
  },
  {
   "cell_type": "markdown",
   "metadata": {},
   "source": [
    "## Q2) Effectiveness of Predictive Models\n",
    "\n",
    "Predictive models estimated on historical data, in this case, are useful. It is not practical to wait out the lifetime of a customer with a bank, so it makes sense to build models using historical data to classify customers and plan effective offers. Although the model on the past data may not explain the variability due to unexplained factors, it was fair enough to determine the expected response rates for the different products during the test run. Also, the predictive model with inputs from a test run, predicted the response rates of the rollout for the combinations that are not tried out in the test run successfully proving that predictive models estimated on historical data useful in this case."
   ]
  },
  {
   "cell_type": "markdown",
   "metadata": {},
   "source": [
    "## Q3) Best Product\n",
    "\n",
    "The “best product” for all customers would be the one that is least costly to them, given that we are assuming that our customers are rational and they would prefer to pay less for the credit card services, they will want a low APR, fixed-rate, and no annual fee. In our case that would be the combination of low apr, fixed-rate, and no annual fee. The most desirable combination is:\n",
    "> APR: 14.9%   \n",
    "> Fixed-rate   \n",
    "> $0 Annual fee\n",
    "\n",
    "This fact is validated as the response rates are the highest for this product in all groups when compared to other products both in the predictive model and the rollout results.\n"
   ]
  }
 ],
 "metadata": {
  "kernelspec": {
   "display_name": "Python 3",
   "language": "python",
   "name": "python3"
  },
  "language_info": {
   "codemirror_mode": {
    "name": "ipython",
    "version": 3
   },
   "file_extension": ".py",
   "mimetype": "text/x-python",
   "name": "python",
   "nbconvert_exporter": "python",
   "pygments_lexer": "ipython3",
   "version": "3.8.5"
  }
 },
 "nbformat": 4,
 "nbformat_minor": 4
}
